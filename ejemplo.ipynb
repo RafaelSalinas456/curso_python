{
 "cells": [
  {
   "cell_type": "code",
   "execution_count": 1,
   "id": "1b36c4bc-ed15-409b-a346-be6c7d124052",
   "metadata": {},
   "outputs": [],
   "source": [
    "x = 3+2\n",
    "y =4-1"
   ]
  },
  {
   "cell_type": "code",
   "execution_count": null,
   "id": "6a90fcdd-883a-4232-961b-2b85a2de0a12",
   "metadata": {},
   "outputs": [],
   "source": []
  }
 ],
 "metadata": {
  "kernelspec": {
   "display_name": "Python 3 (ipykernel)",
   "language": "python",
   "name": "python3"
  },
  "language_info": {
   "codemirror_mode": {
    "name": "ipython",
    "version": 3
   },
   "file_extension": ".py",
   "mimetype": "text/x-python",
   "name": "python",
   "nbconvert_exporter": "python",
   "pygments_lexer": "ipython3",
   "version": "3.12.7"
  }
 },
 "nbformat": 4,
 "nbformat_minor": 5
}
